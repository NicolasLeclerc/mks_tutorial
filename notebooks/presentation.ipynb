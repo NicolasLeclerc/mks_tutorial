{
 "cells": [
  {
   "cell_type": "markdown",
   "metadata": {
    "format": "row",
    "slideshow": {
     "slide_type": "slide"
    }
   },
   "source": [
    "<p>\n",
    "<center>\n",
    "<img src=\"./pymks_logo.svg\"\n",
    "     height=\"5\"\n",
    "     width=\"250\"\n",
    "     alt=\"PyMKS logo\"\n",
    "     class=\"inline\">\n",
    "</center>\n",
    "</p>\n",
    "\n",
    "<p>\n",
    "<center>\n",
    "<sup><strong>\n",
    "<h1>\n",
    "PyMKS &ndash; The Materials Knowledge System in Python\n",
    "</h1>\n",
    "</strong></sup>\n",
    "</center>\n",
    "</p>\n",
    "\n",
    "<p>\n",
    "<center>\n",
    "<sup><strong>\n",
    "<h2>\n",
    "Daniel Wheeler\n",
    "<h2>\n",
    "<sup><strong>\n",
    "</center>\n",
    "</p>\n",
    "\n",
    "<p>\n",
    "<center>\n",
    "<pre>\n",
    "https://materialsinnovation.github.io/pymks\n",
    "</pre>\n",
    "</center>\n",
    "</p>\n"
   ]
  },
  {
   "cell_type": "markdown",
   "metadata": {
    "slideshow": {
     "slide_type": "slide"
    }
   },
   "source": [
    "\n",
    "# PyMKS Overview\n",
    "\n",
    " - PyMKS is a materials informatics toolkit (Materials Knowledge System) written in Python\n",
    "\n",
    " - PyMKS provides a machine learning technique unavailable in other machine learning libraries\n",
    "\n",
    " - PyMKS provides process-structure-property linkages\n",
    "\n",
    " - PyMKS bridges length scales\n"
   ]
  },
  {
   "cell_type": "markdown",
   "metadata": {
    "slideshow": {
     "slide_type": "slide"
    }
   },
   "source": [
    "<p>\n",
    "<h1 style=\"position: relative; top: 100px\">\n",
    "PyMKS Workflow\n",
    "</h1>\n",
    "</p>\n",
    "<center>\n",
    "<img src=\"./pymks1.svg\"\n",
    "     height=\"600\"\n",
    "     width=\"600\"\n",
    "     alt=\"PyMKS logo\"\n",
    "     class=\"inline\">\n",
    "</center>\n"
   ]
  },
  {
   "cell_type": "markdown",
   "metadata": {
    "slideshow": {
     "slide_type": "slide"
    }
   },
   "source": [
    "# PyMKS Development\n",
    "\n",
    "<p>\n",
    "<ul>\n",
    "<li style=\"float: left; display: inline\">\n",
    "</li>\n",
    "<li style=\"float: left;  display: inline\">\n",
    "<a href=\"https://gitter.im/pymks/Lobby\" target=\"_blank\">\n",
    "<img src=\"https://img.shields.io/gitter/room/gitterHQ/gitter.svg\"\n",
    "alt=\"Gitter Chat\">\n",
    "</a>\n",
    "</li>\n",
    "<li style=\"float: left; display: inline\">\n",
    "\n",
    "<a href=\"https://travis-ci.org/materialsinnovation/pymks\" target=\"_blank\">\n",
    "<img src=\"https://api.travis-ci.org/materialsinnovation/pymks.svg\"\n",
    "alt=\"Travis CI\">\n",
    "</a>\n",
    "</li>\n",
    "<li style=\"float: left; display: inline\">\n",
    "<a href=\"https://pypi.python.org/pypi/pymks/0.3.1\">\n",
    "<img src=\"https://badge.fury.io/py/pymks.svg\" alt=\"PyPI version\" height=\"18\">\n",
    "</a>\n",
    "</li>\n",
    "<li style=\"float: left; display: inline\">\n",
    "<a href=\"https://github.com/materialsinnovation/pymks/blob/master/LICENSE.md\">\n",
    "<img src=\"https://img.shields.io/badge/license-mit-blue.svg\" alt=\"License\" height=\"18\">\n",
    "</a>\n",
    "</li>\n",
    "<li style=\"float: left; display: inline\">\n",
    "<a href=\"http://pymks.readthedocs.io/en/develop\">\n",
    "<img src=\"https://readthedocs.org/projects/pymks/badge/?version=develop\" alt=\"Documentation Status\" height=\"18\">\n",
    "</a>\n",
    "</li>\n",
    "</ul>\n",
    "</p>\n",
    "<br>\n",
    "\n",
    " - Communication with mailing list and chat\n",
    "\n",
    " - Continuous integration for testing\n",
    "\n",
    " - Distributed via Conda and Pip\n",
    "\n",
    " - Open source license \n",
    "\n",
    " - Continous integration for documentations\n",
    "\n",
    " - [16 contributors](https://github.com/materialsinnovation/pymks/graphs/contributors)"
   ]
  },
  {
   "cell_type": "markdown",
   "metadata": {
    "slideshow": {
     "slide_type": "slide"
    }
   },
   "source": [
    "# Tutorial\n",
    "\n",
    " - live coding - follow along - lots of typing\n",
    "\n",
    " - should have software installed - running a Jupyter notebook\n",
    "\n",
    " - please stop me if I go to fast\n",
    "    \n",
    " - feel free to ask questions\n"
   ]
  },
  {
   "cell_type": "markdown",
   "metadata": {
    "slideshow": {
     "slide_type": "slide"
    }
   },
   "source": [
    "# Syllabus\n",
    "\n",
    " - Python intro\n",
    " - 2 point stats\n",
    " - PCA dimensionality reduction with Scikit-learn\n",
    " - parallel processing with Dask\n",
    " - unsupervised learning\n"
   ]
  },
  {
   "cell_type": "code",
   "execution_count": null,
   "metadata": {
    "collapsed": true
   },
   "outputs": [],
   "source": []
  }
 ],
 "metadata": {
  "anaconda-cloud": {},
  "celltoolbar": "Slideshow",
  "kernelspec": {
   "display_name": "Python 3",
   "language": "python",
   "name": "python3"
  },
  "language_info": {
   "codemirror_mode": {
    "name": "ipython",
    "version": 3
   },
   "file_extension": ".py",
   "mimetype": "text/x-python",
   "name": "python",
   "nbconvert_exporter": "python",
   "pygments_lexer": "ipython3",
   "version": "3.6.1"
  }
 },
 "nbformat": 4,
 "nbformat_minor": 1
}
