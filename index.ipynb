{
 "cells": [
  {
   "cell_type": "code",
   "execution_count": 2,
   "metadata": {
    "collapsed": true
   },
   "outputs": [],
   "source": [
    "import pymks\n",
    "import dask\n",
    "import matplotlib"
   ]
  },
  {
   "cell_type": "code",
   "execution_count": 3,
   "metadata": {
    "collapsed": false
   },
   "outputs": [
    {
     "name": "stdout",
     "output_type": "stream",
     "text": [
      "============================= test session starts ==============================\n",
      "platform linux -- Python 3.5.2, pytest-2.9.2, py-1.4.31, pluggy-0.3.1\n",
      "rootdir: /home/dwheeler/git/pymks, inifile: \n",
      "plugins: cov-2.4.0, nbval-0.3.6\n",
      "collected 102 items\n",
      "\n",
      "../pymks/pymks/filter.py .\n",
      "../pymks/pymks/mks_homogenization_model.py ...\n",
      "../pymks/pymks/mks_localization_model.py .....\n",
      "../pymks/pymks/mks_structure_analysis.py ....\n",
      "../pymks/pymks/stats.py ........\n",
      "../pymks/pymks/bases/fourier.py ..\n",
      "../pymks/pymks/bases/gsh.py ..\n",
      "../pymks/pymks/bases/legendre.py ..\n",
      "../pymks/pymks/bases/primitive.py .\n",
      "../pymks/pymks/datasets/__init__.py ....\n",
      "../pymks/pymks/datasets/cahn_hilliard_simulation.py .\n",
      "../pymks/pymks/datasets/elastic_FE_simulation.py ...\n",
      "../pymks/pymks/datasets/microstructure_generator.py .\n",
      "../pymks/pymks/datasets/spherical_microstructure_generator.py ...\n",
      "../pymks/pymks/tests/test_basis_functions.py ...\n",
      "../pymks/pymks/tests/test_datasets.py ...\n",
      "../pymks/pymks/tests/test_elastic_FE_simulation.py .\n",
      "../pymks/pymks/tests/test_filter.py .\n",
      "../pymks/pymks/tests/test_homogenization.py .............\n",
      "../pymks/pymks/tests/test_localization.py .......\n",
      "../pymks/pymks/tests/test_microstructure_generator.py ........\n",
      "../pymks/pymks/tests/test_stats.py ................\n",
      "../pymks/pymks/tests/test_structure_analysis.py ..........\n",
      "\n",
      "========================= 102 passed in 60.86 seconds ==========================\n"
     ]
    }
   ],
   "source": [
    "# NBVAL_IGNORE_OUTPUT\n",
    "\n",
    "pymks.test()"
   ]
  },
  {
   "cell_type": "code",
   "execution_count": null,
   "metadata": {
    "collapsed": true
   },
   "outputs": [],
   "source": [
    "\n",
    "\n"
   ]
  }
 ],
 "metadata": {
  "anaconda-cloud": {},
  "kernelspec": {
   "display_name": "Python [default]",
   "language": "python",
   "name": "python3"
  },
  "language_info": {
   "codemirror_mode": {
    "name": "ipython",
    "version": 3
   },
   "file_extension": ".py",
   "mimetype": "text/x-python",
   "name": "python",
   "nbconvert_exporter": "python",
   "pygments_lexer": "ipython3",
   "version": "3.5.2"
  }
 },
 "nbformat": 4,
 "nbformat_minor": 1
}
