{
 "cells": [
  {
   "cell_type": "markdown",
   "metadata": {},
   "source": [
    "# Localization\n",
    "\n",
    "Use \"localization\" to learn a Cahn-Hilliard model.\n"
   ]
  },
  {
   "cell_type": "markdown",
   "metadata": {},
   "source": [
    "## Learn a Cahn-Hilliard\n",
    "\n",
    "Square domain periodic boundary conditions\n",
    "\n",
    "## $$ \\dot{\\phi} = \\nabla^2 \\left( \\phi^3 - \\phi \\right) - \\gamma \\nabla^4 \\phi $$\n",
    "\n",
    "Create a mapping from $t_0$ to $t_{10}$ without doing all the steps. We want to do the following.\n",
    "\n",
    "## $$ \\phi[s; t_0] \\rightarrow \\phi[s; t_{10}] $$"
   ]
  },
  {
   "cell_type": "markdown",
   "metadata": {},
   "source": [
    "## Represent $\\phi$ as a microstructure function\n",
    "\n",
    "### $$ \\phi_j(\\vec{r}) = \\int_H h \\; m_j(h; \\vec{r}) \\; dh $$\n",
    "\n",
    "### $$ \\int_H m_j(h; \\vec{r}) \\; dh = 1 $$\n",
    "\n",
    "### $$ m_j(h, \\vec{r}) = \\delta(h - \\phi_j(\\vec{r})) $$ \n",
    "\n",
    "Can think of $\\phi_j$ as the expectation of the microstructure function and $m_j$ as a probability density function. In our Cahn-Hilliard, $ -1 < \\phi_j[s] < 1 $.\n",
    "\n",
    "### $$ \\phi_j [s] = \\sum_{h \\in H} h \\; m_j [ h; s] $$\n",
    "\n",
    "Now, we define \n",
    "\n",
    "### $$ m_j [h; s] = \\delta [ h - \\phi_j[s] ] $$\n",
    "\n",
    "where\n",
    "\n",
    "### $$ \\delta [x] = \\max \\left( 1 - \\left|\\frac{x}{\\Delta h}\\right|, 0 \\right) $$\n",
    "\n"
   ]
  },
  {
   "cell_type": "code",
   "execution_count": 50,
   "metadata": {},
   "outputs": [
    {
     "name": "stdout",
     "output_type": "stream",
     "text": [
      "[ 0.   0.   0.4  0.6  0. ]\n"
     ]
    },
    {
     "name": "stderr",
     "output_type": "stream",
     "text": [
      "/home/wd15/miniconda/lib/python3.6/site-packages/matplotlib/figure.py:403: UserWarning: matplotlib is currently using a non-GUI backend, so cannot show the figure\n",
      "  \"matplotlib is currently using a non-GUI backend, \"\n"
     ]
    },
    {
     "data": {
      "image/png": "[encoded data removed]",
      "text/plain": [
       "<matplotlib.figure.Figure at 0x7f02ebcca7f0>"
      ]
     },
     "metadata": {},
     "output_type": "display_data"
    }
   ],
   "source": [
    "%matplotlib inline \n",
    "\n",
    "def delta_func(x, dh):\n",
    "    return np.maximum(1 - abs(x) / dh, 0)\n",
    "\n",
    "hs = np.array([-1., -0.5, 0, 0.5, 1])\n",
    "\n",
    "phi = 0.3\n",
    "\n",
    "import matplotlib.pyplot as plt\n",
    "print(delta_func(hs - phi, 0.5))\n",
    "f, axs = plt.subplots(1, 3)\n",
    "f.set_size_inches((15, 5))\n",
    "\n",
    "for ax, phi in zip(axs, [0.3, 0.0, -0.75]):\n",
    "    ax.bar(np.arange(len(hs)), delta_func(hs - phi, 0.5))\n",
    "    ax.set_xticklabels(['', '-1', '-0.5', '0', '0.5', '1'])\n",
    "    ax.set_ylabel('$\\delta[h - {0:.2f}]$'.format(phi), fontsize=20)\n",
    "    ax.set_xlabel('h', fontsize=20)\n",
    "    ax.set_title('$\\phi={0:.2f}$'.format(phi), fontsize=20)\n",
    "f.show()\n",
    "\n",
    "    "
   ]
  },
  {
   "cell_type": "code",
   "execution_count": 52,
   "metadata": {},
   "outputs": [
    {
     "data": {
      "text/plain": [
       "array([[[ 0. ,  0. ,  0.4,  0.6,  0. ]]])"
      ]
     },
     "execution_count": 52,
     "metadata": {},
     "output_type": "execute_result"
    }
   ],
   "source": [
    "from pymks.bases import PrimitiveBasis\n",
    "\n",
    "microstructure = np.array([[0.3]])\n",
    "\n",
    "basis = PrimitiveBasis(n_states=5, domain=[-1, 1])\n",
    "\n",
    "basis.discretize(microstructure)"
   ]
  },
  {
   "cell_type": "code",
   "execution_count": 55,
   "metadata": {},
   "outputs": [
    {
     "data": {
      "text/plain": [
       "array([[[ 0.,  0.,  1.,  0.,  0.]]])"
      ]
     },
     "execution_count": 55,
     "metadata": {},
     "output_type": "execute_result"
    }
   ],
   "source": [
    "basis.discretize(np.array([[0.0]]))"
   ]
  },
  {
   "cell_type": "code",
   "execution_count": 56,
   "metadata": {},
   "outputs": [
    {
     "data": {
      "text/plain": [
       "array([[[ 0.5,  0.5,  0. ,  0. ,  0. ]]])"
      ]
     },
     "execution_count": 56,
     "metadata": {},
     "output_type": "execute_result"
    }
   ],
   "source": [
    "basis.discretize(np.array([[-0.75]]))"
   ]
  },
  {
   "cell_type": "markdown",
   "metadata": {},
   "source": [
    "## Localization\n",
    "\n",
    "Use regression for each local state."
   ]
  },
  {
   "cell_type": "markdown",
   "metadata": {},
   "source": [
    "# $$ p_j[s] = \\sum_{r \\in S} \\sum_{h \\in H} \\alpha[s; h] m_j[s + r; h] $$"
   ]
  },
  {
   "cell_type": "code",
   "execution_count": null,
   "metadata": {
    "collapsed": true
   },
   "outputs": [],
   "source": []
  }
 ],
 "metadata": {
  "kernelspec": {
   "display_name": "Python 3",
   "language": "python",
   "name": "python3"
  },
  "language_info": {
   "codemirror_mode": {
    "name": "ipython",
    "version": 3
   },
   "file_extension": ".py",
   "mimetype": "text/x-python",
   "name": "python",
   "nbconvert_exporter": "python",
   "pygments_lexer": "ipython3",
   "version": "3.6.1"
  }
 },
 "nbformat": 4,
 "nbformat_minor": 2
}
