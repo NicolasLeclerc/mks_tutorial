{
 "cells": [
  {
   "cell_type": "markdown",
   "metadata": {
    "format": "row",
    "slideshow": {
     "slide_type": "slide"
    }
   },
   "source": [
    "<p>\n",
    "<center>\n",
    "<img src=\"./pymks_logo.svg\"\n",
    "     height=\"5\"\n",
    "     width=\"250\"\n",
    "     alt=\"PyMKS logo\"\n",
    "     class=\"inline\">\n",
    "</center>\n",
    "</p>\n",
    "\n",
    "<p>\n",
    "<center>\n",
    "<sup><strong>\n",
    "<h1>\n",
    "PyMKS &ndash; The Materials Knowledge System in Python\n",
    "</h1>\n",
    "</strong></sup>\n",
    "</center>\n",
    "</p>\n",
    "\n",
    "<p>\n",
    "<center>\n",
    "<sup><strong>\n",
    "<h2>\n",
    "Daniel Wheeler\n",
    "<h2>\n",
    "<sup><strong>\n",
    "</center>\n",
    "</p>\n",
    "\n",
    "<p>\n",
    "<center>\n",
    "<pre>\n",
    "https://materialsinnovation.github.io/pymks\n",
    "</pre>\n",
    "</center>\n",
    "</p>\n"
   ]
  },
  {
   "cell_type": "markdown",
   "metadata": {
    "slideshow": {
     "slide_type": "slide"
    }
   },
   "source": [
    "\n",
    "# PyMKS Overview\n",
    "\n",
    " - PyMKS is a materials informatics toolkit (Materials Knowledge System) written in Python\n",
    "\n",
    " - PyMKS provides a machine learning technique unavailable in other machine learning libraries\n",
    "\n",
    " - PyMKS provides process-structure-property linkages\n",
    "\n",
    " - PyMKS bridges length scales\n"
   ]
  },
  {
   "cell_type": "markdown",
   "metadata": {
    "slideshow": {
     "slide_type": "slide"
    }
   },
   "source": [
    "# Tutorial\n",
    "\n",
    " - live coding - follow along - lots of typing\n",
    "\n",
    " - should have software installed - running a Jupyter notebook\n",
    "  \n",
    "   - install on your laptop\n",
    "   \n",
    "   - use [Matin](https://matin.gatech.edu:9012/hub/login)\n",
    "   \n",
    "   - use Binder [![](http://mybinder.org/badge.svg)](http://beta.mybinder.org/repo/wd15/mks-tutorial)\n",
    "\n",
    " - please stop me if I go too fast\n",
    "    \n",
    " - feel free to ask questions\n"
   ]
  },
  {
   "cell_type": "markdown",
   "metadata": {
    "slideshow": {
     "slide_type": "slide"
    }
   },
   "source": [
    "# Syllabus\n",
    "\n",
    " - Python intro?\n",
    " - Microstrucure function\n",
    " - 2 point stats\n",
    " - Dimensionality reduction\n",
    " - Learning\n",
    " - Pipelines\n",
    " - Cross validation\n",
    " \n",
    "Tools:\n",
    "\n",
    " - PyMKS, Scikit-Learn, Dask"
   ]
  }
 ],
 "metadata": {
  "anaconda-cloud": {},
  "celltoolbar": "Slideshow",
  "kernelspec": {
   "display_name": "Python [default]",
   "language": "python",
   "name": "python3"
  },
  "language_info": {
   "codemirror_mode": {
    "name": "ipython",
    "version": 3
   },
   "file_extension": ".py",
   "mimetype": "text/x-python",
   "name": "python",
   "nbconvert_exporter": "python",
   "pygments_lexer": "ipython3",
   "version": "3.6.1"
  }
 },
 "nbformat": 4,
 "nbformat_minor": 1
}
