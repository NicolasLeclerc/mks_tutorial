{
 "cells": [
  {
   "cell_type": "markdown",
   "metadata": {},
   "source": [
    "# ROBUST PROPERTY-STRUCTURE LINKAGE FOR POLYMER COMPOSITES\n",
    "\n"
   ]
  },
  {
   "cell_type": "code",
   "execution_count": 1,
   "metadata": {},
   "outputs": [],
   "source": [
    "# %matplotlib inline\n",
    "%load_ext autoreload\n",
    "%autoreload 2\n",
    "\n",
    "import numpy as np\n",
    "import matplotlib.pyplot as plt\n"
   ]
  },
  {
   "cell_type": "markdown",
   "metadata": {},
   "source": [
    "Model parameters "
   ]
  },
  {
   "cell_type": "code",
   "execution_count": 2,
   "metadata": {},
   "outputs": [],
   "source": [
    "sample_size = 200\n",
    "n_samples = 6 * [sample_size]\n",
    "size = (101, 101)\n",
    "elastic_modulus = (1.3, 75)\n",
    "poissons_ratio = (0.42, .22)\n",
    "macro_strain = 0.001\n",
    "n_phases = 2\n",
    "grain_size = [(40, 2), (10, 2), (2, 40), (2, 10), (2, 30), (30, 2)]\n",
    "v_frac = [(0.8, 0.2), (0.7, 0.3), (0.6, 0.4), (0.5, 0.5), (0.3, 0.7), (0.4, 0.6)]\n",
    "per_ch = 0.1\n",
    "seed=10"
   ]
  },
  {
   "cell_type": "markdown",
   "metadata": {},
   "source": [
    "## FE Simulation\n",
    "\n",
    "Create Data from FE Simulation"
   ]
  },
  {
   "cell_type": "code",
   "execution_count": 3,
   "metadata": {},
   "outputs": [
    {
     "name": "stderr",
     "output_type": "stream",
     "text": [
      "/home/grdstu/anaconda3/lib/python3.6/importlib/_bootstrap.py:219: RuntimeWarning: numpy.dtype size changed, may indicate binary incompatibility. Expected 96, got 88\n",
      "  return f(*args, **kwds)\n",
      "/home/grdstu/anaconda3/lib/python3.6/importlib/_bootstrap.py:219: RuntimeWarning: numpy.dtype size changed, may indicate binary incompatibility. Expected 96, got 88\n",
      "  return f(*args, **kwds)\n",
      "/home/grdstu/anaconda3/lib/python3.6/importlib/_bootstrap.py:219: RuntimeWarning: numpy.dtype size changed, may indicate binary incompatibility. Expected 96, got 88\n",
      "  return f(*args, **kwds)\n",
      "/home/grdstu/anaconda3/lib/python3.6/importlib/_bootstrap.py:219: RuntimeWarning: numpy.dtype size changed, may indicate binary incompatibility. Expected 96, got 88\n",
      "  return f(*args, **kwds)\n"
     ]
    }
   ],
   "source": [
    "from pymks.datasets.elastic_FE_simulation import ElasticFESimulation\n",
    "\n",
    "sim = ElasticFESimulation(poissons_ratio=poissons_ratio,\n",
    "                          elastic_modulus=elastic_modulus, macro_strain=macro_strain)"
   ]
  },
  {
   "cell_type": "markdown",
   "metadata": {},
   "source": [
    "## Generating Structures"
   ]
  },
  {
   "cell_type": "code",
   "execution_count": 4,
   "metadata": {},
   "outputs": [
    {
     "name": "stderr",
     "output_type": "stream",
     "text": [
      "/home/grdstu/anaconda3/lib/python3.6/site-packages/pymks/datasets/microstructure_generator.py:75: FutureWarning: Using a non-tuple sequence for multidimensional indexing is deprecated; use `arr[tuple(seq)]` instead of `arr[seq]`. In the future this will be interpreted as an array index, `arr[np.array(seq)]`, which will result either in an error or a different result.\n",
      "  X_bool = X_blur[..., None] > seg_values[seg_slices]\n"
     ]
    },
    {
     "data": {
      "text/plain": [
       "(1200, 101, 101)"
      ]
     },
     "execution_count": 4,
     "metadata": {},
     "output_type": "execute_result"
    }
   ],
   "source": [
    "from pymks.datasets import make_microstructure\n",
    "dataset = np.concatenate([make_microstructure(n_samples=samps,\n",
    "                              size=size, grain_size=grains, seed=seed, \n",
    "                               volume_fraction=v_f, percent_variance=per_ch)\n",
    "                          for samps, grains, v_f in zip(n_samples, grain_size, v_frac)])\n",
    "dataset.shape"
   ]
  },
  {
   "cell_type": "markdown",
   "metadata": {},
   "source": [
    "## Run FE Simulation"
   ]
  },
  {
   "cell_type": "code",
   "execution_count": 9,
   "metadata": {},
   "outputs": [
    {
     "name": "stdout",
     "output_type": "stream",
     "text": [
      "(1200L, 101L, 101L)\n"
     ]
    }
   ],
   "source": [
    "sim.run(dataset)\n",
    "local_strain = sim.response\n",
    "print(local_strain.shape)"
   ]
  },
  {
   "cell_type": "markdown",
   "metadata": {},
   "source": [
    "\n",
    "\n",
    "Now we are going to print out a few microstructres to look at how the fiber length, orientation and volume fraction are varied.  "
   ]
  },
  {
   "cell_type": "code",
   "execution_count": 11,
   "metadata": {},
   "outputs": [
    {
     "name": "stdout",
     "output_type": "stream",
     "text": [
      "[  5.71442757   5.46860336   6.49412375 ...,  34.27138828  32.15890794\n",
      "  32.33349239]\n"
     ]
    }
   ],
   "source": [
    "from pymks import PrimitiveBasis\n",
    "\n",
    "p_basis = PrimitiveBasis(2)\n",
    "\n",
    "X_ = p_basis.discretize(dataset)\n",
    "index = tuple([None for i in range(len(size) + 1)]) + (slice(None),)\n",
    "modulus = np.sum(X_ * np.array(elastic_modulus)[index], axis=-1)\n",
    "y_stress_field = local_strain * modulus\n",
    "stresses = np.average(y_stress_field.reshape(len(y_stress_field), -1), axis=1)\n",
    "print stresses"
   ]
  },
  {
   "cell_type": "code",
   "execution_count": 12,
   "metadata": {},
   "outputs": [
    {
     "name": "stdout",
     "output_type": "stream",
     "text": [
      "10.5129894018\n"
     ]
    }
   ],
   "source": [
    "print np.average(stresses)"
   ]
  },
  {
   "cell_type": "code",
   "execution_count": 13,
   "metadata": {},
   "outputs": [],
   "source": [
    "moduli = stresses / macro_strain"
   ]
  },
  {
   "cell_type": "markdown",
   "metadata": {},
   "source": [
    "## Creating the Model\n"
   ]
  },
  {
   "cell_type": "code",
   "execution_count": 14,
   "metadata": {},
   "outputs": [],
   "source": [
    "from pymks import MKSHomogenizationModel\n",
    "from pymks import PrimitiveBasis\n",
    "\n",
    "p_basis = PrimitiveBasis()\n",
    "model = MKSHomogenizationModel(basis=p_basis, correlations=[(0, 0), (1, 1)], periodic_axes=[0, 1])\n"
   ]
  },
  {
   "cell_type": "markdown",
   "metadata": {},
   "source": [
    "## Split Data"
   ]
  },
  {
   "cell_type": "code",
   "execution_count": 38,
   "metadata": {},
   "outputs": [],
   "source": [
    "from sklearn.cross_validation import train_test_split\n",
    "\n",
    "\n",
    "flat_shape = (dataset.shape[0],) + (dataset[0].size,)\n",
    "data_train, data_test, moduli_train, moduli_test = train_test_split(\n",
    "    dataset.reshape(flat_shape), moduli, test_size=0.2, random_state=3)\n"
   ]
  },
  {
   "cell_type": "markdown",
   "metadata": {},
   "source": [
    "## Search Parameter Space"
   ]
  },
  {
   "cell_type": "code",
   "execution_count": 16,
   "metadata": {},
   "outputs": [],
   "source": [
    "from sklearn.grid_search import GridSearchCV\n",
    "from sklearn.metrics import mean_squared_error, make_scorer\n",
    "mse_scorer = make_scorer(mean_squared_error, greater_is_better=False)\n",
    "\n",
    "params_to_tune = {'degree': np.arange(1, 7), 'n_components': np.arange(1, 11)}\n",
    "fit_params = {'size': dataset[0].shape}\n",
    "gs = GridSearchCV(model, params_to_tune, fit_params=fit_params, scoring=mse_scorer).fit(data_train, moduli_train)\n"
   ]
  },
  {
   "cell_type": "markdown",
   "metadata": {},
   "source": [
    "Let's take a look at the results."
   ]
  },
  {
   "cell_type": "code",
   "execution_count": 17,
   "metadata": {},
   "outputs": [
    {
     "name": "stdout",
     "output_type": "stream",
     "text": [
      "Order of Polynomial 3\n",
      "Number of Components 3\n",
      "Score 0.999144105047\n"
     ]
    }
   ],
   "source": [
    "print('Order of Polynomial'), (gs.best_estimator_.degree)\n",
    "print('Number of Components'), (gs.best_estimator_.n_components)\n",
    "print('Score'), (gs.score(data_test, moduli_test))\n"
   ]
  },
  {
   "cell_type": "markdown",
   "metadata": {},
   "source": [
    "## Use best Model"
   ]
  },
  {
   "cell_type": "code",
   "execution_count": 39,
   "metadata": {},
   "outputs": [],
   "source": [
    "model = gs.best_estimator_\n",
    "model.fit(data_train.reshape((data_train.shape[0],) + dataset.shape[1:]), moduli_train)"
   ]
  },
  {
   "cell_type": "markdown",
   "metadata": {},
   "source": [
    "### Percent Error "
   ]
  },
  {
   "cell_type": "code",
   "execution_count": 40,
   "metadata": {},
   "outputs": [
    {
     "name": "stdout",
     "output_type": "stream",
     "text": [
      "Mean Predicted Percent Error 1.7163371734\n",
      "Mean Training Percent Error 1.71528052294\n"
     ]
    }
   ],
   "source": [
    "moduli_predict = model.predict(data_test)\n",
    "_moduli_train = model.predict(data_train.reshape((data_train.shape[0],) + dataset.shape[1:]))\n",
    "pred_percent_error = 100 * np.abs(moduli_predict - moduli_test) / moduli_test\n",
    "train_percent_error = 100 * np.abs(_moduli_train - moduli_train) / moduli_train\n",
    "print 'Mean Predicted Percent Error', np.mean(pred_percent_error)\n",
    "print 'Mean Training Percent Error', np.mean(train_percent_error)\n"
   ]
  },
  {
   "cell_type": "markdown",
   "metadata": {
    "collapsed": true
   },
   "source": [
    "## Other Models "
   ]
  },
  {
   "cell_type": "code",
   "execution_count": 53,
   "metadata": {},
   "outputs": [
    {
     "name": "stdout",
     "output_type": "stream",
     "text": [
      "[ 0.69914714  0.39947064  0.69953926 ...,  0.60072542  0.70012744\n",
      "  0.19949025]\n"
     ]
    }
   ],
   "source": [
    "_data_test = data_test.reshape((data_test.shape[0],) + dataset.shape[1:])\n",
    "Vf = np.zeros(data_test.shape[0])\n",
    "for i in range(0, data_test.shape[0]):\n",
    "    Vf[i] = sum(sum(_data_test[i]))/(101.0*101.0)"
   ]
  },
  {
   "cell_type": "code",
   "execution_count": 69,
   "metadata": {},
   "outputs": [],
   "source": [
    "testing_indices = []\n",
    "for x in data_test:\n",
    "    index = np.where((x == dataset.reshape((dataset.shape[0],\n",
    "                                            -1))).all(axis=1))[0][0]\n",
    "    testing_indices.append(index)"
   ]
  },
  {
   "cell_type": "markdown",
   "metadata": {},
   "source": [
    "Halpin-Tsai"
   ]
  },
  {
   "cell_type": "code",
   "execution_count": 43,
   "metadata": {
    "collapsed": true
   },
   "outputs": [],
   "source": [
    "# l = average fiber length\n",
    "# d = average fiber diameter\n",
    "# grain_size = [(40, 2), (10, 2), (2, 40), (2, 10), (2, 30), (30, 2)]\n",
    "d = np.zeros(dataset.shape[0])\n",
    "l = np.zeros(dataset.shape[0])\n",
    "l[0:200] = 40\n",
    "d[0:200] = 2\n",
    "l[200:400] = 10\n",
    "d[200:400] = 2\n",
    "l[400:600] = 2\n",
    "d[400:600] = 40\n",
    "l[600:800] = 2\n",
    "d[600:800] = 10\n",
    "l[800:1000] = 2\n",
    "d[800:1000] = 30\n",
    "l[1000:1200] = 30\n",
    "d[1000:1200] = 2"
   ]
  },
  {
   "cell_type": "code",
   "execution_count": 60,
   "metadata": {},
   "outputs": [
    {
     "name": "stdout",
     "output_type": "stream",
     "text": [
      "[  2.   2.   2. ...,  30.   2.  40.]\n"
     ]
    }
   ],
   "source": [
    "l_test = np.array([l[i] for i in testing_indices])\n",
    "d_test = np.array([d[i] for i in testing_indices])"
   ]
  },
  {
   "cell_type": "code",
   "execution_count": 63,
   "metadata": {},
   "outputs": [],
   "source": [
    "Em, Ef = elastic_modulus\n",
    "\n",
    "nu_l = ((Ef/Em)-1)/((Ef/Em)+(2*l_test/d_test))\n",
    "# Logitudinal elastic modulus\n",
    "El = Em*((1+(2*l_test/d_test)*nu_l*Vf)/(1-nu_l*Vf))\n",
    "\n",
    "Halpin_Tsai_moduli = np.concatenate((moduli_test[None], El[None]))"
   ]
  },
  {
   "cell_type": "markdown",
   "metadata": {
    "collapsed": true
   },
   "source": [
    "Rule of mixtures"
   ]
  },
  {
   "cell_type": "code",
   "execution_count": 64,
   "metadata": {
    "collapsed": true
   },
   "outputs": [],
   "source": [
    "E_mix_u = (1-Vf)*Em+(Vf)*Ef\n",
    "Mixtures_upper_moduli = np.concatenate((moduli_test[None], E_mix_u[None]))\n",
    "E_mix_l = (Ef*Em)/(((1-Vf)*Ef)+(Vf*Em))\n",
    "Mixtures_lower_moduli = np.concatenate((moduli_test[None], E_mix_l[None]))"
   ]
  },
  {
   "cell_type": "markdown",
   "metadata": {},
   "source": [
    "### Compare Models\n"
   ]
  },
  {
   "cell_type": "code",
   "execution_count": 70,
   "metadata": {
    "collapsed": true
   },
   "outputs": [],
   "source": [
    "def _draw_goodness_of_fit(data, labels, legend_location=1):\n",
    "    plt.close('all')\n",
    "    y_total = data[0]\n",
    "    y_min, y_max = np.min(y_total), np.max(y_total)\n",
    "    middle = (y_max + y_min) / 2.\n",
    "    data_range = y_max - y_min\n",
    "    line = np.linspace(middle - data_range * 1.03 / 2,\n",
    "                       middle + data_range * 1.03 / 2, endpoint=False)\n",
    "    plt.plot(line, line, '-', linewidth=3, color='#000000')\n",
    "    colors = ['#f46d43', '#1f78b4', '#e31a1c','#6a3d9a', '#b2df8a']\n",
    "    for i in range(1):\n",
    "        colors.remove(colors[2])\n",
    "    for d, l, c in zip(data, labels, colors):\n",
    "        plt.plot(d[0], d[1], 'o', color=c, label=l)\n",
    "    plt.title('Goodness of Fit', fontsize=20)\n",
    "    plt.xlabel('Actual Modulus (GPa)', fontsize=18)\n",
    "    plt.ylabel('Predicted Modulus (GPa)', fontsize=18)\n",
    "    plt.legend(loc=legend_location, fontsize=15)\n",
    "    plt.show()"
   ]
  },
  {
   "cell_type": "code",
   "execution_count": 71,
   "metadata": {},
   "outputs": [],
   "source": [
    "\n",
    "pred_data = np.array([moduli_test, moduli_predict])\n",
    "_draw_goodness_of_fit([pred_data, Mixtures_upper_moduli, Mixtures_lower_moduli, Halpin_Tsai_moduli],\n",
    "                      ['Model', 'Upper ROM', 'Lower ROM', 'Halpin-Tsai'],\n",
    "                     legend_location=1)\n"
   ]
  },
  {
   "cell_type": "code",
   "execution_count": null,
   "metadata": {
    "collapsed": true
   },
   "outputs": [],
   "source": []
  }
 ],
 "metadata": {
  "kernelspec": {
   "display_name": "Python 3",
   "language": "python",
   "name": "python3"
  },
  "language_info": {
   "codemirror_mode": {
    "name": "ipython",
    "version": 3
   },
   "file_extension": ".py",
   "mimetype": "text/x-python",
   "name": "python",
   "nbconvert_exporter": "python",
   "pygments_lexer": "ipython3",
   "version": "3.6.6"
  }
 },
 "nbformat": 4,
 "nbformat_minor": 1
}
